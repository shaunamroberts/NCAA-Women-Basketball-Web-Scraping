{
  "nbformat": 4,
  "nbformat_minor": 0,
  "metadata": {
    "colab": {
      "provenance": []
    },
    "kernelspec": {
      "name": "python3",
      "display_name": "Python 3"
    },
    "language_info": {
      "name": "python"
    }
  },
  "cells": [
    {
      "cell_type": "code",
      "execution_count": null,
      "metadata": {
        "id": "IMiOr7ArewY3"
      },
      "outputs": [],
      "source": [
        "from bs4 import BeautifulSoup\n",
        "import requests\n",
        "import urllib.request\n",
        "from urllib.parse import urljoin\n",
        "import pandas as pd\n",
        "import re\n",
        "from collections import Counter\n",
        "import matplotlib.pyplot as plt"
      ]
    },
    {
      "cell_type": "code",
      "source": [
        "url = 'https://www.ncaa.com/stats/basketball-women/d1'\n",
        "response = requests.get(url)"
      ],
      "metadata": {
        "id": "HfIQyziWe0W_"
      },
      "execution_count": null,
      "outputs": []
    },
    {
      "cell_type": "code",
      "source": [
        "soup = BeautifulSoup(response.content, 'html.parser')\n",
        "similar_websites_elements = soup.find_all(class_= \"block-stats__header__link stats-pager-link\")\n",
        "# similar_websites_data = similar_websites_element.text\n",
        "print(\"Similar Websites:\", similar_websites_elements)"
      ],
      "metadata": {
        "colab": {
          "base_uri": "https://localhost:8080/"
        },
        "id": "CdTAvC3be4mv",
        "outputId": "0ce9a045-0321-4533-f37c-cff108f323f9"
      },
      "execution_count": null,
      "outputs": [
        {
          "output_type": "stream",
          "name": "stdout",
          "text": [
            "Similar Websites: [<a class=\"block-stats__header__link stats-pager-link\" href=\"/stats/basketball-women/d1/current/individual/102\">Points Per Game</a>, <a class=\"block-stats__header__link stats-pager-link\" href=\"/stats/basketball-women/d1/current/individual/103\">Rebounds Per Game</a>, <a class=\"block-stats__header__link stats-pager-link\" href=\"/stats/basketball-women/d1/current/team/111\">Scoring Offense</a>, <a class=\"block-stats__header__link stats-pager-link\" href=\"/stats/basketball-women/d1/current/team/112\">Scoring Defense</a>]\n"
          ]
        }
      ]
    },
    {
      "cell_type": "code",
      "source": [
        "for element in similar_websites_elements:\n",
        "  relative_url = element['href']\n",
        "  complete_url = urljoin(url, relative_url)\n",
        "  print(\"Complete URL:\", complete_url)"
      ],
      "metadata": {
        "colab": {
          "base_uri": "https://localhost:8080/"
        },
        "id": "BPZxFOjne68_",
        "outputId": "7e4c8ec3-243f-4b5d-8d39-d597926b5db3"
      },
      "execution_count": null,
      "outputs": [
        {
          "output_type": "stream",
          "name": "stdout",
          "text": [
            "Complete URL: https://www.ncaa.com/stats/basketball-women/d1/current/individual/102\n",
            "Complete URL: https://www.ncaa.com/stats/basketball-women/d1/current/individual/103\n",
            "Complete URL: https://www.ncaa.com/stats/basketball-women/d1/current/team/111\n",
            "Complete URL: https://www.ncaa.com/stats/basketball-women/d1/current/team/112\n"
          ]
        }
      ]
    },
    {
      "cell_type": "code",
      "source": [
        "completed_urls = []\n",
        "for element in similar_websites_elements:\n",
        "  relative_url = element['href']\n",
        "  complete_url = urljoin(url, relative_url)\n",
        "  completed_urls.append(complete_url)\n",
        "print(completed_urls)"
      ],
      "metadata": {
        "colab": {
          "base_uri": "https://localhost:8080/"
        },
        "id": "D1n2cbef54wn",
        "outputId": "8fe5f757-c72c-467b-e2f9-ef6790054267"
      },
      "execution_count": null,
      "outputs": [
        {
          "output_type": "stream",
          "name": "stdout",
          "text": [
            "['https://www.ncaa.com/stats/basketball-women/d1/current/individual/102', 'https://www.ncaa.com/stats/basketball-women/d1/current/individual/103', 'https://www.ncaa.com/stats/basketball-women/d1/current/team/111', 'https://www.ncaa.com/stats/basketball-women/d1/current/team/112']\n"
          ]
        }
      ]
    },
    {
      "cell_type": "code",
      "source": [
        "interesting_url = completed_urls[0:2]\n",
        "print(interesting_url)"
      ],
      "metadata": {
        "colab": {
          "base_uri": "https://localhost:8080/"
        },
        "id": "mopt-mWA78Io",
        "outputId": "cdf2a740-89fe-4d57-a6ee-d3245877a86c"
      },
      "execution_count": null,
      "outputs": [
        {
          "output_type": "stream",
          "name": "stdout",
          "text": [
            "['https://www.ncaa.com/stats/basketball-women/d1/current/individual/102', 'https://www.ncaa.com/stats/basketball-women/d1/current/individual/103']\n"
          ]
        }
      ]
    },
    {
      "cell_type": "code",
      "source": [
        "tables = []\n",
        "for url in interesting_url:\n",
        "  response = requests.get(url)\n",
        "  soup = BeautifulSoup(response.content, 'html.parser')\n",
        "  table = soup.find('table')\n",
        "  tables.append(table)\n",
        "print(tables)"
      ],
      "metadata": {
        "id": "LUZoGF4X-rRE"
      },
      "execution_count": null,
      "outputs": []
    },
    {
      "cell_type": "code",
      "source": [
        "dfs = []\n",
        "for table in tables:\n",
        "  df = pd.read_html(str(table))[0]\n",
        "  dfs.append(df)\n",
        "\n",
        "table1_df = dfs[0]\n",
        "print(\"Table 1:\")\n",
        "print(table1_df)\n",
        "table2_df = dfs[1]\n",
        "print(\"\\nTable 2:\")\n",
        "print(table2_df)"
      ],
      "metadata": {
        "id": "VbJx3xghMphO"
      },
      "execution_count": null,
      "outputs": []
    },
    {
      "cell_type": "code",
      "source": [
        "new_table1_df = dfs[0].iloc[:, [0, 4,10,11]]\n",
        "print(\"Points per game: \")\n",
        "print(new_table1_df)"
      ],
      "metadata": {
        "colab": {
          "base_uri": "https://localhost:8080/"
        },
        "id": "FvfzU-8PXsbl",
        "outputId": "94bd93e1-4e51-4569-b617-3787702eab56"
      },
      "execution_count": null,
      "outputs": [
        {
          "output_type": "stream",
          "name": "stdout",
          "text": [
            "Points per game: \n",
            "   Rank Height   PTS   PPG\n",
            "0     1    6-0  1234  31.6\n",
            "1     2    6-2   920  27.1\n",
            "2     3    5-9   815  23.3\n",
            "3     4    5-8   759  23.0\n",
            "4     5    6-6   661  22.8\n",
            "5     6    5-6   790  22.6\n",
            "6     7    5-7   670  22.3\n",
            "7     8    5-5   712  22.2\n",
            "8     9    5-7   577  22.2\n",
            "9    10    5-2   684  22.1\n",
            "10   11   5-11   637  22.0\n",
            "11   12    6-0   854  21.9\n",
            "12   13    6-2   727  21.4\n",
            "13   14    5-8   705  21.4\n",
            "14   15    5-9   568  21.0\n",
            "15   16    6-1   734  21.0\n",
            "16   17    6-0   684  20.7\n",
            "17   18    5-8   662  20.7\n",
            "18   19    5-8   599  20.7\n",
            "19   20    5-7   632  20.4\n",
            "20   21   5-11   611  20.4\n",
            "21   22    5-6   667  20.2\n",
            "22   23    6-2   505  20.2\n",
            "23   24    6-3   633  19.8\n",
            "24   25    5-8   652  19.8\n",
            "25   26    6-6   533  19.7\n",
            "26   27    6-1   670  19.7\n",
            "27   28    6-1   625  19.5\n",
            "28   29   5-10   663  19.5\n",
            "29   30    5-8   643  19.5\n",
            "30   31   5-11   583  19.4\n",
            "31   32    6-3   698  19.4\n",
            "32   33   5-10   445  19.3\n",
            "33   34    5-7   637  19.3\n",
            "34   35    5-8   675  19.3\n",
            "35   36    6-3   635  19.2\n",
            "36   37   5-11   518  19.2\n",
            "37   38   5-11   665  19.0\n",
            "38    -    5-7   570  19.0\n",
            "39   40    5-8   625  18.9\n",
            "40   41    5-6   602  18.8\n",
            "41   42    5-3   636  18.7\n",
            "42   43    6-0   598  18.7\n",
            "43   44    6-4   579  18.7\n",
            "44   45    6-3   614  18.6\n",
            "45   46    5-9   552  18.4\n",
            "46    -    5-8   552  18.4\n",
            "47   48    5-7   607  18.4\n",
            "48   49    5-7   586  18.3\n",
            "49   50    5-9   530  18.3\n"
          ]
        }
      ]
    },
    {
      "cell_type": "code",
      "source": [
        "new_table2_df = dfs[1].iloc[:, [0,4, 7, 8, 9, 10]]\n",
        "print(\"Rebounds per game: \")\n",
        "print(new_table2_df)"
      ],
      "metadata": {
        "colab": {
          "base_uri": "https://localhost:8080/"
        },
        "id": "_Db09NOxYBLp",
        "outputId": "b09dccba-b5f3-4fd9-d507-4207ac95fc77"
      },
      "execution_count": null,
      "outputs": [
        {
          "output_type": "stream",
          "name": "stdout",
          "text": [
            "Rebounds per game: \n",
            "   Rank Height  ORebs  DRebs  REB   RPG\n",
            "0     1    6-1    171    333  504  15.3\n",
            "1     2    6-3    183    258  441  13.4\n",
            "2     3    6-8    136    245  381  11.9\n",
            "3     4    6-2    141    251  392  11.9\n",
            "4     5    6-4     97    306  403  11.9\n",
            "5     6    6-6     97    233  330  11.4\n",
            "6     7    6-2     54    283  337  11.2\n",
            "7     8    6-1    150    196  346  11.2\n",
            "8     9    6-3    140    257  397  11.0\n",
            "9    10    6-2     73    299  372  10.9\n",
            "10   11    6-2    152    185  337  10.9\n",
            "11   12   5-10     97    269  366  10.8\n",
            "12   13    6-1     72    259  331  10.7\n",
            "13   14    6-4     92    228  320  10.7\n",
            "14   15    6-4     81    249  330  10.6\n",
            "15   16   5-11    138    180  318  10.6\n",
            "16    -   5-10    145    173  318  10.6\n",
            "17   18    6-3    124    215  339  10.6\n",
            "18   19    6-2     88    240  328  10.6\n",
            "19   20    6-0    118    199  317  10.6\n",
            "20   21    6-2    122    163  285  10.6\n",
            "21   22    6-3    110    259  369  10.5\n",
            "22   23    6-4     89    246  335  10.5\n",
            "23   24    6-1    130    183  313  10.4\n",
            "24   25    6-2     89    253  342  10.4\n",
            "25   26    6-0    108    221  329  10.3\n",
            "26   27    6-2     98    220  318  10.3\n",
            "27   28    6-1    124    182  306  10.2\n",
            "28   29    6-6    117    204  321  10.0\n",
            "29   30    6-2    118    223  341  10.0\n",
            "30   31    6-6    118    222  340  10.0\n",
            "31   32    6-1    125    244  369  10.0\n",
            "32   33    6-2    114    195  309  10.0\n",
            "33   34    6-1     80    208  288   9.9\n",
            "34   35    6-2    124    183  307   9.9\n",
            "35   36    6-3     97    249  346   9.9\n",
            "36   37    6-5    103    213  316   9.9\n",
            "37   38    6-2     60    244  304   9.8\n",
            "38   39    6-1    114    199  313   9.8\n",
            "39   40    6-0    127    175  302   9.7\n",
            "40   41    6-7    122    198  320   9.7\n",
            "41   42    6-1    127    183  310   9.7\n",
            "42   43    6-1     91    159  250   9.6\n",
            "43   44   5-10    115    169  284   9.5\n",
            "44   45    6-1    105    207  312   9.5\n",
            "45   46    6-2    163    166  329   9.4\n",
            "46   47    6-2     49    242  291   9.4\n",
            "47   48    6-7    107    162  269   9.3\n",
            "48   49    6-2     89    226  315   9.3\n",
            "49   50    6-3     89    252  341   9.2\n"
          ]
        }
      ]
    },
    {
      "cell_type": "code",
      "source": [
        "print(\"Top 10 players stats\")\n",
        "top_10_df = new_table1_df.iloc[:10]\n",
        "print(top_10_df)"
      ],
      "metadata": {
        "colab": {
          "base_uri": "https://localhost:8080/"
        },
        "id": "4F_OY2JfuN23",
        "outputId": "fac69758-c6ae-44be-94a4-c6057743621a"
      },
      "execution_count": null,
      "outputs": [
        {
          "output_type": "stream",
          "name": "stdout",
          "text": [
            "Top 10 players stats\n",
            "  Rank Height   PTS   PPG\n",
            "0    1    6-0  1234  31.6\n",
            "1    2    6-2   920  27.1\n",
            "2    3    5-9   815  23.3\n",
            "3    4    5-8   759  23.0\n",
            "4    5    6-6   661  22.8\n",
            "5    6    5-6   790  22.6\n",
            "6    7    5-7   670  22.3\n",
            "7    8    5-5   712  22.2\n",
            "8    9    5-7   577  22.2\n",
            "9   10    5-2   684  22.1\n"
          ]
        }
      ]
    },
    {
      "cell_type": "code",
      "source": [
        "plt.figure(figsize=(12, 8))\n",
        "plt.bar(top_10_df['Rank'], top_10_df['PTS'], color='pink')\n",
        "plt.title('Top 10 Players by Points Scored')\n",
        "plt.xlabel('Rank')\n",
        "plt.ylabel('Points (PTS)')\n",
        "plt.xticks(rotation=45, ha='right')\n",
        "plt.tight_layout()\n",
        "plt.show()"
      ],
      "metadata": {
        "colab": {
          "base_uri": "https://localhost:8080/",
          "height": 807
        },
        "id": "eN8BTT4_Msfl",
        "outputId": "92632f0d-497b-4794-93bd-1d1cfd0c65c6"
      },
      "execution_count": null,
      "outputs": [
        {
          "output_type": "display_data",
          "data": {
            "text/plain": [
              "<Figure size 1200x800 with 1 Axes>"
            ],
            "image/png": "[encoded data removed]"
          },
          "metadata": {}
        }
      ]
    },
    {
      "cell_type": "code",
      "source": [
        "frequent_height = new_table1_df['Height'].mode().iloc[0]\n",
        "print(\"Most Frequent Height:\", frequent_height)"
      ],
      "metadata": {
        "colab": {
          "base_uri": "https://localhost:8080/"
        },
        "id": "CSFPZpUChoYR",
        "outputId": "c7a0fc85-324c-492c-f97f-df994f666468"
      },
      "execution_count": null,
      "outputs": [
        {
          "output_type": "stream",
          "name": "stdout",
          "text": [
            "Most Frequent Height: 5-8\n"
          ]
        }
      ]
    },
    {
      "cell_type": "code",
      "source": [
        "height_pattern = re.compile(r'(\\d+)-(\\d+)$')\n",
        "def height_5_8(height):\n",
        "  match = height_pattern.match(height)\n",
        "  if match:\n",
        "    feet = int(match.group(1))\n",
        "    inches = int(match.group(2))\n",
        "    return feet == 5 and inches == 8\n",
        "  return False\n",
        "\n",
        "height_5_8_df = new_table1_df[new_table1_df['Height'].apply(height_5_8)]\n",
        "print(height_5_8_df)"
      ],
      "metadata": {
        "colab": {
          "base_uri": "https://localhost:8080/"
        },
        "id": "7ZDcs_40aHhd",
        "outputId": "37d2da60-9ad9-401d-8355-5381118d9c46"
      },
      "execution_count": null,
      "outputs": [
        {
          "output_type": "stream",
          "name": "stdout",
          "text": [
            "   Rank Height  PTS   PPG\n",
            "3     4    5-8  759  23.0\n",
            "13   14    5-8  705  21.4\n",
            "17   18    5-8  662  20.7\n",
            "18   19    5-8  599  20.7\n",
            "24   25    5-8  652  19.8\n",
            "29   30    5-8  643  19.5\n",
            "34   35    5-8  675  19.3\n",
            "39   40    5-8  625  18.9\n",
            "46    -    5-8  552  18.4\n"
          ]
        }
      ]
    },
    {
      "cell_type": "code",
      "source": [
        "missing_rank_index = height_5_8_df[height_5_8_df['Rank'] == '-'].index\n",
        "\n",
        "# Check if there is any missing value and update if exists\n",
        "if not missing_rank_index.empty:\n",
        "    height_5_8_df.at[missing_rank_index[0], 'Rank'] = 47\n",
        "\n",
        "# Print the updated DataFrame\n",
        "print(height_5_8_df)"
      ],
      "metadata": {
        "colab": {
          "base_uri": "https://localhost:8080/"
        },
        "id": "4CbRpTGLGHXp",
        "outputId": "35c09c39-f18c-4973-ea7b-73382449a8c4"
      },
      "execution_count": null,
      "outputs": [
        {
          "output_type": "stream",
          "name": "stdout",
          "text": [
            "   Rank Height  PTS   PPG\n",
            "3     4    5-8  759  23.0\n",
            "13   14    5-8  705  21.4\n",
            "17   18    5-8  662  20.7\n",
            "18   19    5-8  599  20.7\n",
            "24   25    5-8  652  19.8\n",
            "29   30    5-8  643  19.5\n",
            "34   35    5-8  675  19.3\n",
            "39   40    5-8  625  18.9\n",
            "46   47    5-8  552  18.4\n"
          ]
        }
      ]
    },
    {
      "cell_type": "code",
      "source": [
        "height_6_or_taller_df = new_table1_df[new_table1_df['Height'].apply(lambda x: int(x.split('-')[0]))>=6]\n",
        "num_players_6_or_taller = len(height_6_or_taller_df)\n",
        "print(\"Number of Players with Height 6'0 or taller:\", num_players_6_or_taller)"
      ],
      "metadata": {
        "colab": {
          "base_uri": "https://localhost:8080/"
        },
        "id": "deBsPvejqweP",
        "outputId": "c17e3e14-5efa-4a5a-cd9b-5ebd34fd255e"
      },
      "execution_count": null,
      "outputs": [
        {
          "output_type": "stream",
          "name": "stdout",
          "text": [
            "Number of Players with Height 6'0 or taller: 17\n"
          ]
        }
      ]
    },
    {
      "cell_type": "code",
      "source": [
        "print(height_6_or_taller_df)"
      ],
      "metadata": {
        "colab": {
          "base_uri": "https://localhost:8080/"
        },
        "id": "FRatO1yNsFm9",
        "outputId": "e36aa2fb-a086-494c-dc27-313f81133adf"
      },
      "execution_count": null,
      "outputs": [
        {
          "output_type": "stream",
          "name": "stdout",
          "text": [
            "   Rank Height   PTS   PPG\n",
            "0     1    6-0  1234  31.6\n",
            "1     2    6-2   920  27.1\n",
            "4     5    6-6   661  22.8\n",
            "11   12    6-0   854  21.9\n",
            "12   13    6-2   727  21.4\n",
            "15   16    6-1   734  21.0\n",
            "16   17    6-0   684  20.7\n",
            "22   23    6-2   505  20.2\n",
            "23   24    6-3   633  19.8\n",
            "25   26    6-6   533  19.7\n",
            "26   27    6-1   670  19.7\n",
            "27   28    6-1   625  19.5\n",
            "31   32    6-3   698  19.4\n",
            "35   36    6-3   635  19.2\n",
            "42   43    6-0   598  18.7\n",
            "43   44    6-4   579  18.7\n",
            "44   45    6-3   614  18.6\n"
          ]
        }
      ]
    },
    {
      "cell_type": "code",
      "source": [
        "height_avg_ppg = new_table1_df.groupby('Height')['PPG'].mean().reset_index(name='Average PPG')\n",
        "height_avg_ppg['Average PPG'] = height_avg_ppg['Average PPG'].round(2)\n",
        "print(\"Average PPG by Height:\")\n",
        "print(height_avg_ppg)"
      ],
      "metadata": {
        "colab": {
          "base_uri": "https://localhost:8080/"
        },
        "id": "1lvBAae64z4p",
        "outputId": "3453f8e4-45f1-49c7-b0a6-571e7fa92999"
      },
      "execution_count": null,
      "outputs": [
        {
          "output_type": "stream",
          "name": "stdout",
          "text": [
            "Average PPG by Height:\n",
            "   Height  Average PPG\n",
            "0    5-10        19.40\n",
            "1    5-11        20.00\n",
            "2     5-2        22.10\n",
            "3     5-3        18.70\n",
            "4     5-5        22.20\n",
            "5     5-6        20.53\n",
            "6     5-7        19.99\n",
            "7     5-8        20.19\n",
            "8     5-9        20.25\n",
            "9     6-0        23.22\n",
            "10    6-1        20.07\n",
            "11    6-2        22.90\n",
            "12    6-3        19.25\n",
            "13    6-4        18.70\n",
            "14    6-6        21.25\n"
          ]
        }
      ]
    },
    {
      "cell_type": "code",
      "source": [
        "plt.figure(figsize= (12,6))\n",
        "plt.bar(height_avg_ppg['Height'],height_avg_ppg['Average PPG'], color = 'pink')\n",
        "plt.xlabel('Height')\n",
        "plt.ylabel('Average PPG')\n",
        "plt.title('Average PPG by Height')\n",
        "plt.xticks(rotation=90)\n",
        "plt.grid(axis='y', linestyle='--',alpha=0.6)\n",
        "plt.show()"
      ],
      "metadata": {
        "colab": {
          "base_uri": "https://localhost:8080/",
          "height": 581
        },
        "id": "nTS1NnHX91qJ",
        "outputId": "9c611dbc-7151-4a04-9be0-71b9b142e910"
      },
      "execution_count": null,
      "outputs": [
        {
          "output_type": "display_data",
          "data": {
            "text/plain": [
              "<Figure size 1200x600 with 1 Axes>"
            ],
            "image/png": "[encoded data removed]"
          },
          "metadata": {}
        }
      ]
    },
    {
      "cell_type": "code",
      "source": [
        "names_to_search = [\"Angel Reese\", \"Caitlin Clark\"]\n",
        "\n",
        "for name in names_to_search:\n",
        "  pattern = re.compile(fr\".*{re.escape(name)}.*\", flags=re.IGNORECASE)\n",
        "  matching_row = table1_df[table1_df[\"Name\"].apply(lambda x:bool (pattern.search(x)))]\n",
        "  if not matching_row.empty:\n",
        "    print(f\"{name}: {matching_row['Rank'].iloc[0]}\")\n",
        "  else:\n",
        "    print(f\"{name} not in top 50\")"
      ],
      "metadata": {
        "colab": {
          "base_uri": "https://localhost:8080/"
        },
        "id": "sw9NwOcNvLNB",
        "outputId": "6eb87e1c-aaa6-4e2e-bd50-7ce3c337671e"
      },
      "execution_count": null,
      "outputs": [
        {
          "output_type": "stream",
          "name": "stdout",
          "text": [
            "Angel Reese: 45\n",
            "Caitlin Clark: 1\n"
          ]
        }
      ]
    },
    {
      "cell_type": "code",
      "source": [
        "print(\"Top 10 players stats:\")\n",
        "print(new_table2_df.iloc[:10])"
      ],
      "metadata": {
        "colab": {
          "base_uri": "https://localhost:8080/"
        },
        "id": "eRXDFGrrzwbB",
        "outputId": "c14c18a2-e703-4c7d-a912-dfe30ba10a65"
      },
      "execution_count": null,
      "outputs": [
        {
          "output_type": "stream",
          "name": "stdout",
          "text": [
            "Top 10 players stats:\n",
            "  Rank Height  ORebs  DRebs  REB   RPG\n",
            "0    1    6-1    171    333  504  15.3\n",
            "1    2    6-3    183    258  441  13.4\n",
            "2    3    6-8    136    245  381  11.9\n",
            "3    4    6-2    141    251  392  11.9\n",
            "4    5    6-4     97    306  403  11.9\n",
            "5    6    6-6     97    233  330  11.4\n",
            "6    7    6-2     54    283  337  11.2\n",
            "7    8    6-1    150    196  346  11.2\n",
            "8    9    6-3    140    257  397  11.0\n",
            "9   10    6-2     73    299  372  10.9\n"
          ]
        }
      ]
    },
    {
      "cell_type": "code",
      "source": [
        "frequent_height = new_table2_df['Height'].mode().iloc[0]\n",
        "print(\"Most Frequent Height:\", frequent_height)"
      ],
      "metadata": {
        "colab": {
          "base_uri": "https://localhost:8080/"
        },
        "id": "PeiHHPnI02M4",
        "outputId": "8b2894f2-c6ab-4692-9539-cf58998e6e5f"
      },
      "execution_count": null,
      "outputs": [
        {
          "output_type": "stream",
          "name": "stdout",
          "text": [
            "Most Frequent Height: 6-2\n"
          ]
        }
      ]
    },
    {
      "cell_type": "code",
      "source": [
        "height_counts = new_table2_df['Height'].value_counts()\n",
        "\n",
        "plt.figure(figsize=(10, 6))\n",
        "height_counts.plot(kind='bar', color='pink')\n",
        "plt.title('Frequency of Heights')\n",
        "plt.xlabel('Height')\n",
        "plt.ylabel('Frequency')\n",
        "plt.xticks(rotation=0)\n",
        "plt.show()"
      ],
      "metadata": {
        "colab": {
          "base_uri": "https://localhost:8080/",
          "height": 564
        },
        "id": "dNceUOTWKADB",
        "outputId": "df2ddcf4-a5c6-4a40-e6ab-691987261d0e"
      },
      "execution_count": null,
      "outputs": [
        {
          "output_type": "display_data",
          "data": {
            "text/plain": [
              "<Figure size 1000x600 with 1 Axes>"
            ],
            "image/png": "[encoded data removed]"
          },
          "metadata": {}
        }
      ]
    },
    {
      "cell_type": "code",
      "source": [
        "height_6_2_df = new_table2_df[new_table2_df['Height'] =='6-2']\n",
        "print(height_6_2_df)"
      ],
      "metadata": {
        "colab": {
          "base_uri": "https://localhost:8080/"
        },
        "id": "SdQhClet0_oB",
        "outputId": "8d3d0357-4a85-4674-f7ee-4f9e61cac98b"
      },
      "execution_count": null,
      "outputs": [
        {
          "output_type": "stream",
          "name": "stdout",
          "text": [
            "   Rank Height  ORebs  DRebs  REB   RPG\n",
            "3     4    6-2    141    251  392  11.9\n",
            "6     7    6-2     54    283  337  11.2\n",
            "9    10    6-2     73    299  372  10.9\n",
            "10   11    6-2    152    185  337  10.9\n",
            "18   19    6-2     88    240  328  10.6\n",
            "20   21    6-2    122    163  285  10.6\n",
            "24   25    6-2     89    253  342  10.4\n",
            "26   27    6-2     98    220  318  10.3\n",
            "29   30    6-2    118    223  341  10.0\n",
            "32   33    6-2    114    195  309  10.0\n",
            "34   35    6-2    124    183  307   9.9\n",
            "37   38    6-2     60    244  304   9.8\n",
            "45   46    6-2    163    166  329   9.4\n",
            "46   47    6-2     49    242  291   9.4\n",
            "48   49    6-2     89    226  315   9.3\n"
          ]
        }
      ]
    },
    {
      "cell_type": "code",
      "source": [
        "average_rpg = new_table2_df['RPG'].mean()\n",
        "num_players_above_avg = len(new_table2_df[new_table2_df['RPG']>= average_rpg])\n",
        "print(\"Average RPG:\", average_rpg)\n",
        "print(\"Number of Players with RPG above average:\", num_players_above_avg)"
      ],
      "metadata": {
        "colab": {
          "base_uri": "https://localhost:8080/"
        },
        "id": "M_AXp7aW7Tam",
        "outputId": "f1a7601b-f6f4-4aba-a2c2-299b28849617"
      },
      "execution_count": null,
      "outputs": [
        {
          "output_type": "stream",
          "name": "stdout",
          "text": [
            "Average RPG: 10.47\n",
            "Number of Players with RPG above average: 23\n"
          ]
        }
      ]
    },
    {
      "cell_type": "code",
      "source": [
        "names_to_search = [\"Angel Reese\", \"Caitlin Clark\"]\n",
        "\n",
        "for name in names_to_search:\n",
        "  pattern = re.compile(fr\".*{re.escape(name)}.*\", flags=re.IGNORECASE)\n",
        "  matching_row = table2_df[table2_df[\"Name\"].apply(lambda x:bool (pattern.search(x)))]\n",
        "  if not matching_row.empty:\n",
        "    print(f\"{name}: {matching_row['Rank'].iloc[0]}\")\n",
        "  else:\n",
        "    print(f\"{name} not in top 50\")"
      ],
      "metadata": {
        "colab": {
          "base_uri": "https://localhost:8080/"
        },
        "id": "pkVRjx8_6hgR",
        "outputId": "5a0bc5e5-ff62-4c09-c83f-814c6021ad31"
      },
      "execution_count": null,
      "outputs": [
        {
          "output_type": "stream",
          "name": "stdout",
          "text": [
            "Angel Reese: 2\n",
            "Caitlin Clark not in top 50\n"
          ]
        }
      ]
    }
  ]
}